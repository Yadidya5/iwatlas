{
 "cells": [
  {
   "cell_type": "markdown",
   "metadata": {},
   "source": [
    "# Test routines for calculating internal wave properties \n",
    "\n",
    "Calculate the following properties from the buoyancy frequency:\n",
    "\n",
    " - Vertical mode function\n",
    " - Linear phase speed (rotating frame)\n",
    " - Alpha (nonlinearity)\n",
    " - Beta (dispersion)\n",
    " - Ratio of sea-surface displacement to internal displacement\n",
    " \n",
    " "
   ]
  },
  {
   "cell_type": "code",
   "execution_count": 1,
   "metadata": {},
   "outputs": [
    {
     "ename": "ModuleNotFoundError",
     "evalue": "No module named 'sfoda'",
     "output_type": "error",
     "traceback": [
      "\u001b[0;31m---------------------------------------------------------------------------\u001b[0m",
      "\u001b[0;31mModuleNotFoundError\u001b[0m                       Traceback (most recent call last)",
      "\u001b[0;32m<ipython-input-1-61b42de17e2a>\u001b[0m in \u001b[0;36m<module>\u001b[0;34m\u001b[0m\n\u001b[1;32m      3\u001b[0m \u001b[0;32mimport\u001b[0m \u001b[0mxarray\u001b[0m \u001b[0;32mas\u001b[0m \u001b[0mxr\u001b[0m\u001b[0;34m\u001b[0m\u001b[0;34m\u001b[0m\u001b[0m\n\u001b[1;32m      4\u001b[0m \u001b[0;34m\u001b[0m\u001b[0m\n\u001b[0;32m----> 5\u001b[0;31m \u001b[0;32mimport\u001b[0m \u001b[0miwatlas\u001b[0m\u001b[0;34m.\u001b[0m\u001b[0mstratification\u001b[0m \u001b[0;32mas\u001b[0m \u001b[0mstrat\u001b[0m\u001b[0;34m\u001b[0m\u001b[0;34m\u001b[0m\u001b[0m\n\u001b[0m\u001b[1;32m      6\u001b[0m \u001b[0;32mfrom\u001b[0m \u001b[0miwatlas\u001b[0m \u001b[0;32mimport\u001b[0m \u001b[0miwaves\u001b[0m\u001b[0;34m\u001b[0m\u001b[0;34m\u001b[0m\u001b[0m\n\u001b[1;32m      7\u001b[0m \u001b[0;32mfrom\u001b[0m \u001b[0miwatlas\u001b[0m \u001b[0;32mimport\u001b[0m \u001b[0msshdriver\u001b[0m\u001b[0;34m\u001b[0m\u001b[0;34m\u001b[0m\u001b[0m\n",
      "\u001b[0;32m~/opt/anaconda3/lib/python3.8/site-packages/iwatlas/stratification.py\u001b[0m in \u001b[0;36m<module>\u001b[0;34m\u001b[0m\n\u001b[1;32m     10\u001b[0m \u001b[0;32mfrom\u001b[0m \u001b[0mscipy\u001b[0m\u001b[0;34m.\u001b[0m\u001b[0moptimize\u001b[0m \u001b[0;32mimport\u001b[0m \u001b[0mleast_squares\u001b[0m\u001b[0;34m\u001b[0m\u001b[0;34m\u001b[0m\u001b[0m\n\u001b[1;32m     11\u001b[0m \u001b[0;34m\u001b[0m\u001b[0m\n\u001b[0;32m---> 12\u001b[0;31m \u001b[0;32mfrom\u001b[0m \u001b[0miwatlas\u001b[0m \u001b[0;32mimport\u001b[0m \u001b[0msshdriver\u001b[0m\u001b[0;34m\u001b[0m\u001b[0;34m\u001b[0m\u001b[0m\n\u001b[0m\u001b[1;32m     13\u001b[0m \u001b[0;34m\u001b[0m\u001b[0m\n\u001b[1;32m     14\u001b[0m \u001b[0;32mfrom\u001b[0m \u001b[0msfoda\u001b[0m\u001b[0;34m.\u001b[0m\u001b[0mutils\u001b[0m\u001b[0;34m.\u001b[0m\u001b[0mharmonic_analysis\u001b[0m \u001b[0;32mimport\u001b[0m \u001b[0mharmonic_fit_array\u001b[0m\u001b[0;34m\u001b[0m\u001b[0;34m\u001b[0m\u001b[0m\n",
      "\u001b[0;32m~/opt/anaconda3/lib/python3.8/site-packages/iwatlas/sshdriver.py\u001b[0m in \u001b[0;36m<module>\u001b[0;34m\u001b[0m\n\u001b[1;32m     10\u001b[0m \u001b[0;34m\u001b[0m\u001b[0m\n\u001b[1;32m     11\u001b[0m \u001b[0;34m\u001b[0m\u001b[0m\n\u001b[0;32m---> 12\u001b[0;31m \u001b[0;32mfrom\u001b[0m \u001b[0msfoda\u001b[0m\u001b[0;34m.\u001b[0m\u001b[0msuntans\u001b[0m\u001b[0;34m.\u001b[0m\u001b[0msunxray\u001b[0m \u001b[0;32mimport\u001b[0m \u001b[0mSunxray\u001b[0m\u001b[0;34m\u001b[0m\u001b[0;34m\u001b[0m\u001b[0m\n\u001b[0m\u001b[1;32m     13\u001b[0m \u001b[0;32mfrom\u001b[0m \u001b[0msfoda\u001b[0m\u001b[0;34m.\u001b[0m\u001b[0mutils\u001b[0m\u001b[0;34m.\u001b[0m\u001b[0mmyproj\u001b[0m \u001b[0;32mimport\u001b[0m \u001b[0mMyProj\u001b[0m\u001b[0;34m\u001b[0m\u001b[0;34m\u001b[0m\u001b[0m\n\u001b[1;32m     14\u001b[0m \u001b[0;34m\u001b[0m\u001b[0m\n",
      "\u001b[0;31mModuleNotFoundError\u001b[0m: No module named 'sfoda'"
     ]
    }
   ],
   "source": [
    "import numpy as np \n",
    "import matplotlib.pyplot as plt\n",
    "import xarray as xr\n",
    "\n",
    "import iwatlas.stratification as strat\n",
    "from iwatlas import iwaves\n",
    "from iwatlas import sshdriver"
   ]
  },
  {
   "cell_type": "code",
   "execution_count": 2,
   "metadata": {},
   "outputs": [
    {
     "name": "stdout",
     "output_type": "stream",
     "text": [
      "Calculating densty stratification data...\n"
     ]
    }
   ],
   "source": [
    "############\n",
    "basedir = '/home/suntans/cloudstor/Data/IWAtlas-lite'\n",
    "\n",
    "\n",
    "# climfile = '{}/NWS_2km_GLORYS_hex_2013_2014_Climatology.nc'.format(basedir)\n",
    "N2file = '{}/NWS_2km_GLORYS_hex_2013_2014_Stratification_Atlas.nc'.format(basedir)\n",
    "\n",
    "# Test points\n",
    "xpt = np.array([120.5,122.1])\n",
    "ypt = np.array([-12.,-12.])\n",
    "\n",
    "timept = np.array([np.datetime64('2013-07-01 00:00:00'), \n",
    "                   np.datetime64('2013-11-01 00:00:00'),\n",
    "                   np.datetime64('2014-03-01 00:00:00')])\n",
    "\n",
    "Nz = 80\n",
    "\n",
    "###########\n",
    "\n",
    "print('Calculating densty stratification data...')\n",
    "\n",
    "# N2_t = strat.predict_N2_params(N2file, xpt, ypt, timept )\n",
    "N2_z, zout = strat.predict_N2(N2file, xpt, ypt, timept,  Nz)"
   ]
  },
  {
   "cell_type": "code",
   "execution_count": 4,
   "metadata": {},
   "outputs": [
    {
     "data": {
      "text/plain": [
       "masked_array(\n",
       "  data=[[316.41451515, 319.67965585, 374.55802821],\n",
       "        [229.12618725, 250.65093379, 249.9787156 ]],\n",
       "  mask=False,\n",
       "  fill_value=1e+20)"
      ]
     },
     "execution_count": 4,
     "metadata": {},
     "output_type": "execute_result"
    }
   ],
   "source": [
    "\n",
    "phi_n, cn = iwaves.calc_modes(N2_z, zout)\n",
    "alpha = iwaves.calc_alpha(phi_n, cn, zout)\n",
    "beta = iwaves.calc_beta(phi_n, cn, zout)\n",
    "ampratio = iwaves.ssh_to_amp_ratio(N2_z, phi_n, zout)\n",
    "sshratio = iwaves.amp_to_ssh_ratio(N2_z, phi_n, zout)\n",
    "\n",
    "sshratio"
   ]
  },
  {
   "cell_type": "markdown",
   "metadata": {},
   "source": [
    "---\n",
    "# Testing"
   ]
  },
  {
   "cell_type": "code",
   "execution_count": 9,
   "metadata": {},
   "outputs": [
    {
     "data": {
      "text/plain": [
       "[<matplotlib.lines.Line2D at 0x7f3c227daf70>]"
      ]
     },
     "execution_count": 9,
     "metadata": {},
     "output_type": "execute_result"
    },
    {
     "data": {
      "image/png": "[encoded data removed]",
      "text/plain": [
       "<Figure size 432x288 with 2 Axes>"
      ]
     },
     "metadata": {
      "needs_background": "light"
     },
     "output_type": "display_data"
    }
   ],
   "source": [
    "phi, c = iwaves.iwave_modes(N2[:,0,0], zout[:,0,0])\n",
    "\n",
    "plt.figure()\n",
    "plt.plot(N2_z[:,0,0], zout[:,0,0])\n",
    "plt.twiny()\n",
    "plt.plot(phi[:,0], zout[:,0,0],'r')\n"
   ]
  },
  {
   "cell_type": "markdown",
   "metadata": {},
   "source": [
    "# Internal tide parameter\n",
    "\n",
    "SSH to internal tide amplitude ratio\n",
    "\n",
    "See Zhao 2016 Eq. A8\n",
    "\n",
    "$$\n",
    "\\frac{SSH}{a_0} = \\frac{1}{g}\\int_{-H}^0 \\phi(z)N^2(z)dz\n",
    "$$"
   ]
  },
  {
   "cell_type": "code",
   "execution_count": 56,
   "metadata": {},
   "outputs": [],
   "source": [
    "def calc_alpha(phi, c, z):\n",
    "    phi_z = grad_z(phi_n, -z)\n",
    "    num = 3*c*np.trapz( np.power(phi_z,3.), z, axis=0)\n",
    "    den = 2*np.trapz(np.power(phi_z,2), z, axis=0)\n",
    "    return num/den\n",
    "\n",
    "def calc_beta(phi, c, z):\n",
    "    phi_z = grad_z(phi_n, -z)\n",
    "    num = c*np.trapz( np.power(phi_n, 2.), z, axis=0)\n",
    "    den = 2*np.trapz( np.power(phi_z, 2.), z, axis=0)\n",
    "    \n",
    "    return num/den\n",
    "\n",
    "def ssh_to_amp_ratio(N2, phi, z):\n",
    "    \"\"\"\n",
    "    SSH to internal tide amplitude ratio\n",
    "    \n",
    "    See Zhao 2016 Eq. A8\n",
    "    \n",
    "    $$\n",
    "    \\frac{SSH}{a_0} = \\frac{1}{g}\\int_{-H}^0 phi(z)N^2(z)dz\n",
    "    $$\n",
    "    \"\"\"\n",
    "    grav=9.81\n",
    "    \n",
    "    return 1/grav * np.trapz(phi*N2, z, axis=0)\n",
    "    \n",
    "def amp_to_ssh_ratio(N2, phi, z):\n",
    "    \n",
    "    return np.power(ssh_to_amp_ratio(N2, phi, z), -1.)\n",
    "\n",
    "\n",
    "# Calcultaae\n",
    "def calc_alpha_1d(phi, c, dz):\n",
    "    phi_z = np.gradient(phi,-dz)\n",
    "    num = 3*c*np.trapz( phi_z**3., dx=dz)\n",
    "    den = 2*np.trapz( phi_z**2., dx=dz)\n",
    "\n",
    "    return num/den\n",
    "\n",
    "def calc_beta_1d(phi, c, dz):\n",
    "    phi_z = np.gradient(phi, dz)\n",
    "    num = c*np.trapz( phi**2., dx=dz)\n",
    "    den = 2*np.trapz( phi_z**2., dx=dz)\n",
    "\n",
    "    return num/den\n",
    "\n"
   ]
  },
  {
   "cell_type": "code",
   "execution_count": 57,
   "metadata": {},
   "outputs": [
    {
     "data": {
      "text/plain": [
       "(masked_array(\n",
       "   data=[[3776.8331469164414, 3776.8331469164414, 3776.8331469164414],\n",
       "         [1506.633945650305, 1506.633945650305, 1506.633945650305]],\n",
       "   mask=[[False, False, False],\n",
       "         [False, False, False]],\n",
       "   fill_value=1e+20),\n",
       " array([[2.81040228, 2.78908038, 2.97124306],\n",
       "        [2.2934462 , 2.36330206, 2.32528942]]),\n",
       " masked_array(\n",
       "   data=[[-0.007554582101694005, -0.0076130343702253125,\n",
       "          -0.003350052430232455],\n",
       "         [-0.01802240276308202, -0.013724545576055602,\n",
       "          -0.014464985329107838]],\n",
       "   mask=[[False, False, False],\n",
       "         [False, False, False]],\n",
       "   fill_value=1e+20),\n",
       " masked_array(\n",
       "   data=[[1328098.8526029198, 1298329.328202896, 1822926.2160515438],\n",
       "         [129684.20596074034, 160615.53724621743, 153865.0532928526]],\n",
       "   mask=[[False, False, False],\n",
       "         [False, False, False]],\n",
       "   fill_value=1e+20),\n",
       " masked_array(\n",
       "   data=[[0.003160411271004438, 0.003128131495681573,\n",
       "          0.0026698132857363647],\n",
       "         [0.0043644072814598344, 0.003989612106754182,\n",
       "          0.00400034057943179]],\n",
       "   mask=[[False, False, False],\n",
       "         [False, False, False]],\n",
       "   fill_value=1e+20),\n",
       " masked_array(\n",
       "   data=[[316.41451515, 319.67965585, 374.55802821],\n",
       "         [229.12618725, 250.65093379, 249.9787156 ]],\n",
       "   mask=False,\n",
       "   fill_value=1e+20))"
      ]
     },
     "execution_count": 57,
     "metadata": {},
     "output_type": "execute_result"
    }
   ],
   "source": [
    "def calc_modes(N2, z, mode=0):\n",
    "    \"\"\"\n",
    "    Wrapper for iwaves uneven mode calculation\n",
    "    \"\"\"    \n",
    "    \n",
    "    sz = N2.shape\n",
    "    nx = int(np.prod(sz[1:]))\n",
    "\n",
    "    # Need to reshape so rows contain time and other dimensions are along the columns\n",
    "    N2 = np.reshape(N2,(sz[0], nx))\n",
    "    z = np.reshape(z,(sz[0], nx))\n",
    "    \n",
    "    phi_n = np.zeros_like(N2)\n",
    "    cn = np.zeros((nx,))\n",
    "\n",
    "    for ii in range(nx):\n",
    "        phi, c = iwaves.iwave_modes_uneven(N2[:,ii], z[:,ii])\n",
    "        phi_n[:, ii] = phi[:, mode]\n",
    "        cn[ii] = c[mode]\n",
    "        \n",
    "    return np.reshape(phi_n, sz), np.reshape(cn, sz[1:])\n",
    "\n",
    "phi_n, cn = calc_modes(N2_z, zout)\n",
    "alpha = calc_alpha(phi_n, cn, zout)\n",
    "beta = calc_beta(phi_n, cn, zout)\n",
    "ampratio = ssh_to_amp_ratio(N2_z, phi_n, zout)\n",
    "sshratio = amp_to_ssh_ratio(N2_z, phi_n, zout)\n",
    "\n",
    "\n",
    "zout[-1,...], cn, alpha, beta, ampratio, sshratio\n",
    "\n",
    "# N2_da = xr.DataArray(N2_z, dims=('depth','space','time')).chunk({'depth':-1,'space':1,'time':1})\n",
    "# zout_da = xr.DataArray(N2_z, dims=('depth','space','time')).chunk({'depth':-1,'space':1,'time':1})\n",
    "\n",
    "\n",
    "# xr.apply_ufunc(calc_modes, N2_da, zout_da,\n",
    "#              input_core_dims=[['space','time'], ['space','time']],\n",
    "#              exclude_dims=set(('space','time')),\n",
    "#                dask='allowed'\n",
    "#               )"
   ]
  },
  {
   "cell_type": "markdown",
   "metadata": {},
   "source": [
    "# Testing..."
   ]
  },
  {
   "cell_type": "code",
   "execution_count": 58,
   "metadata": {},
   "outputs": [
    {
     "data": {
      "text/plain": [
       "12.0"
      ]
     },
     "execution_count": 58,
     "metadata": {},
     "output_type": "execute_result"
    }
   ],
   "source": []
  },
  {
   "cell_type": "code",
   "execution_count": null,
   "metadata": {},
   "outputs": [],
   "source": []
  },
  {
   "cell_type": "code",
   "execution_count": 4,
   "metadata": {},
   "outputs": [
    {
     "data": {
      "text/plain": [
       "<xarray.Dataset>\n",
       "Dimensions:  (Nc: 225368, Nk: 80, Nkw: 81, Nmode: 4, Np: 454016, Nparams: 6, Ntide: 4, numsides: 8, time: 23)\n",
       "Coordinates:\n",
       "  * time     (time) datetime64[ns] 2013-07-16 2013-07-31 ... 2014-06-11\n",
       "    xv       (Nc) float64 ...\n",
       "    yv       (Nc) float64 ...\n",
       "    Nk       (Nc) int32 ...\n",
       "    z_w      (Nkw) float64 ...\n",
       "    omega    (Ntide) float64 ...\n",
       "    params   (Nparams) int64 ...\n",
       "Dimensions without coordinates: Nc, Nkw, Nmode, Np, Nparams, Ntide, numsides\n",
       "Data variables:\n",
       "    cells    (Nc, numsides) int32 3058 3061 3060 2801 ... 316184 316187 -1 -1\n",
       "    xp       (Np) float64 1.394e+07 1.271e+07 1.517e+07 ... 1.303e+07 1.303e+07\n",
       "    yp       (Np) float64 -1.619e+06 -2.553e+06 ... -2.056e+06 -2.055e+06\n",
       "    nfaces   (Nc) int32 ...\n",
       "    dv       (Nc) float64 ...\n",
       "    modes    (Nmode) float64 ...\n",
       "    dz       (Nk) float64 ...\n",
       "    z_r      (Nk) float64 ...\n",
       "    N2_t     (time, Nparams, Nc) float64 ...\n",
       "    N2_mu    (Nparams, Nc) float64 ...\n",
       "    N2_re    (Ntide, Nparams, Nc) float64 ...\n",
       "    N2_im    (Ntide, Nparams, Nc) float64 ...\n",
       "Attributes:\n",
       "    Description:       SUNTANS History file\n",
       "    Author:            Matt Rayson (matt.rayson@uwa.edu.au)\n",
       "    Created:           2020-10-13 10:06:34.172314\n",
       "    Title:             SUNTANS density stratification climatology\n",
       "    density_func:      double_gaussian_N2\n",
       "    density_func_tex:  N^2(z) = \\beta_0 + \\beta_1  \\left( \\exp \\left[- \\left(..."
      ]
     },
     "execution_count": 4,
     "metadata": {},
     "output_type": "execute_result"
    }
   ],
   "source": [
    "# Calculate the depth at the sites of interest\n",
    "sun = sshdriver.load_ssh_clim(N2file)\n",
    "sun"
   ]
  },
  {
   "cell_type": "code",
   "execution_count": 46,
   "metadata": {},
   "outputs": [],
   "source": [
    "### Code to generate the vertical grid (s-coordinate grid)\n",
    "def calc_scoord_log(Nz, rfac):\n",
    "    s0 = (rfac-1)/(np.power(rfac, Nz-1)-1)\n",
    "    scoord = np.zeros((Nz,))\n",
    "    scoord[1] = s0\n",
    "    for ii in range(2,Nz):\n",
    "        scoord[ii] =  scoord[ii-1]*rfac\n",
    "\n",
    "    return np.cumsum(scoord)\n",
    "\n",
    "def return_zcoord_3d(sun, xpt, ypt, nt, nz, scoord=None, rfac=1.04):\n",
    "    \"\"\"\n",
    "    Create a vertical grid array\n",
    "    \n",
    "    Inputs:\n",
    "    ---\n",
    "        N2file: filename of the stratification climatology dataset (NWS_2km_GLORYS_hex_2013_2014_Stratification_Atlas.nc)\n",
    "        xpt,ypt: vectors [nx] of output space points\n",
    "        nt: scalar, number of time points\n",
    "        nz: scalar, number of vertical layers\n",
    "        scoord: (optional) vector nx, locations of vertical nodes in non-dimensional space i.e. between 0 and 1\n",
    "        rfac: (optional) scalar 1 to 1.1 logarithmic scaling factor for the vertical coordinate\n",
    "    \n",
    "    Returns:\n",
    "        zout: array of buoyancy frequency [nz, nx, nt]\n",
    "    \"\"\"\n",
    "    # Get the depths\n",
    "    h = sun.interpolate(sun._ds.dv, xpt, ypt)\n",
    "\n",
    "    nt = timept.shape[0]\n",
    "\n",
    "    hgrd = h[:,None] * np.ones((nt,))[None,:]\n",
    "    \n",
    "    if scoord is None:\n",
    "        scoord = calc_scoord_log(Nz, rfac)\n",
    "\n",
    "    return scoord[:,None,None] * hgrd[None, ...]\n",
    "\n"
   ]
  },
  {
   "cell_type": "code",
   "execution_count": 47,
   "metadata": {},
   "outputs": [
    {
     "data": {
      "text/plain": [
       "(40, 2, 3)"
      ]
     },
     "execution_count": 47,
     "metadata": {},
     "output_type": "execute_result"
    }
   ],
   "source": [
    "zout = return_zcoord_3d(sun, xpt, ypt, timept.shape[0], 80)\n",
    "zout.shape"
   ]
  },
  {
   "cell_type": "code",
   "execution_count": 51,
   "metadata": {},
   "outputs": [
    {
     "data": {
      "text/plain": [
       "(40, 2, 3)"
      ]
     },
     "execution_count": 51,
     "metadata": {},
     "output_type": "execute_result"
    }
   ],
   "source": [
    "zout[0,...] = 1e-6 # Set top-value to a small value as we are taking the log\n",
    "zpr = -np.log(zout)\n",
    "\n",
    "N2_z = strat.double_gaussian_N2(zpr, N2_t)\n",
    "N2_z.shape"
   ]
  },
  {
   "cell_type": "code",
   "execution_count": null,
   "metadata": {},
   "outputs": [],
   "source": []
  }
 ],
 "metadata": {
  "kernelspec": {
   "display_name": "Python 3",
   "language": "python",
   "name": "python3"
  },
  "language_info": {
   "codemirror_mode": {
    "name": "ipython",
    "version": 3
   },
   "file_extension": ".py",
   "mimetype": "text/x-python",
   "name": "python",
   "nbconvert_exporter": "python",
   "pygments_lexer": "ipython3",
   "version": "3.8.8"
  }
 },
 "nbformat": 4,
 "nbformat_minor": 4
}

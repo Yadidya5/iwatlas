{
 "cells": [
  {
   "cell_type": "markdown",
   "metadata": {},
   "source": [
    "# Create inputs for a variable-coefficient KdV run from the climatology atlas\n",
    "\n",
    "Steps:\n",
    "---\n",
    "\n",
    "    1. Input a transect and time period\n",
    "    2. Extract the topography along the line\n",
    "    3. Extract the buoyancy along the line\n",
    "    4. Extract a time-series of internal tide amplitude moving onto the shelf\n",
    "    \n",
    "    "
   ]
  },
  {
   "cell_type": "code",
   "execution_count": null,
   "metadata": {},
   "outputs": [],
   "source": [
    "from iwatlas import sshdriver\n",
    "from iwatlas import harmonics\n",
    "import iwatlas.stratification as strat\n",
    "from iwatlas import iwaves\n",
    "\n",
    "\n",
    "\n",
    "import xarray as xr\n",
    "import pandas as pd\n",
    "import numpy as np\n",
    "from scipy.interpolate import interp1d, RectBivariateSpline\n",
    "\n",
    "import matplotlib.pyplot as plt"
   ]
  },
  {
   "cell_type": "code",
   "execution_count": null,
   "metadata": {},
   "outputs": [],
   "source": [
    "basedir = '/home/suntans/cloudstor/Data/IWAtlas-lite'\n",
    "\n",
    "\n",
    "# climfile = '{}/NWS_2km_GLORYS_hex_2013_2014_Climatology.nc'.format(basedir)\n",
    "N2file = '{}/NWS_2km_GLORYS_hex_2013_2014_Stratification_Atlas.nc'.format(basedir)\n",
    "sshfile = '{}/NWS_2km_GLORYS_hex_2013_2014_SSHBC_Harmonics.nc'.format(basedir)\n",
    "\n",
    "\n",
    "ssh_ds = sshdriver.load_ssh_clim(sshfile)\n",
    "N2_ds = sshdriver.load_ssh_clim(N2file)\n",
    "N2_ds"
   ]
  },
  {
   "cell_type": "code",
   "execution_count": null,
   "metadata": {},
   "outputs": [],
   "source": [
    "######\n",
    "# Specify a start and end point and draw on a map\n",
    "\n",
    "## WEL Bathy Prelude transect\n",
    "x0 = 122.753\n",
    "y0 = -13.1026\n",
    "\n",
    "x1 = 123.486\n",
    "y1 = -13.947\n",
    "\n",
    "# Prelude point\n",
    "xpt = 123.3506\n",
    "ypt = -13.7641\n",
    "\n",
    "dx = 0.01 # ~1km\n",
    "######"
   ]
  },
  {
   "cell_type": "code",
   "execution_count": null,
   "metadata": {},
   "outputs": [],
   "source": [
    "## Generate x and y slice coordinates\n",
    "lon = np.arange(x0, x1, dx)\n",
    "Fx = interp1d([x0,x1],[y0,y1])\n",
    "lat = Fx(lon)"
   ]
  },
  {
   "cell_type": "code",
   "execution_count": null,
   "metadata": {},
   "outputs": [],
   "source": [
    "plt.figure(figsize=(8,6))\n",
    "N2_ds.plotcelldata(N2_ds._ds.dv, vmax=1000, cmap='gist_earth_r')\n",
    "N2_ds.contourf(N2_ds._ds.dv, [100,200,300,400,500,600], colors='k', linewidths=0.2, filled=False)\n",
    "plt.plot(lon,lat,'r--')\n",
    "plt.plot(xpt, ypt, 'm*')\n",
    "plt.xlim(xpt-2, xpt+2)\n",
    "plt.ylim(ypt-2, ypt+2)"
   ]
  },
  {
   "cell_type": "code",
   "execution_count": null,
   "metadata": {},
   "outputs": [],
   "source": [
    "# Interpolate the bathy along the line\n",
    "hbathy = N2_ds.interpolate(N2_ds._ds.dv, lon, lat)\n",
    "\n",
    "plt.figure()\n",
    "plt.plot(lon, -hbathy)"
   ]
  },
  {
   "cell_type": "code",
   "execution_count": null,
   "metadata": {},
   "outputs": [],
   "source": [
    "# Interpolate the buoyancy frequency along the line\n",
    "\n",
    "timept = np.array([\n",
    "    np.datetime64('2017-03-30 00:00:00'),\n",
    "    np.datetime64('2017-03-01 00:00:00'),\n",
    "    np.datetime64('2016-08-01 00:00:00'),\n",
    "\n",
    "    ])\n",
    "Nz = 80\n",
    "\n",
    "N2_z, zout = strat.predict_N2(N2file, lon ,lat, timept,  Nz)"
   ]
  },
  {
   "cell_type": "code",
   "execution_count": null,
   "metadata": {},
   "outputs": [],
   "source": [
    "# Plot the buoyancy frequency at the first point in space\n",
    "plt.figure()\n",
    "plt.plot(N2_z[:,0,0], -zout[:,0,0],)\n",
    "plt.plot(N2_z[:,0,1], -zout[:,0,1],)"
   ]
  },
  {
   "cell_type": "code",
   "execution_count": null,
   "metadata": {},
   "outputs": [],
   "source": [
    "# Calculate the internal wave parameters\n",
    "phi_n, cn = iwaves.calc_modes(N2_z, zout)\n",
    "alpha = iwaves.calc_alpha(phi_n, cn, zout)\n",
    "beta = iwaves.calc_beta(phi_n, cn, zout)\n",
    "ampratio = iwaves.ssh_to_amp_ratio(N2_z, phi_n, zout)\n",
    "sshratio = iwaves.amp_to_ssh_ratio(N2_z, phi_n, zout)"
   ]
  },
  {
   "cell_type": "code",
   "execution_count": null,
   "metadata": {},
   "outputs": [],
   "source": [
    "plt.figure(figsize=(6,10))\n",
    "plt.subplot(411)\n",
    "plt.plot(lon, -hbathy)\n",
    "plt.ylim(-600,0)\n",
    "\n",
    "plt.subplot(412)\n",
    "plt.plot(lon, cn[:,0])\n",
    "plt.plot(lon, cn[:,1])\n",
    "\n",
    "plt.ylim(1,2)\n",
    "\n",
    "plt.subplot(413)\n",
    "plt.plot(lon, alpha[:,0])\n",
    "plt.plot(lon, alpha[:,1])\n",
    "\n",
    "plt.ylim(-0.012, 0.012)\n",
    "\n",
    "plt.subplot(414)\n",
    "plt.plot(lon, beta[:,0])\n",
    "plt.plot(lon, beta[:,1])\n",
    "plt.ylim(0,3e4)"
   ]
  },
  {
   "cell_type": "code",
   "execution_count": null,
   "metadata": {},
   "outputs": [],
   "source": [
    "# Extract the slowly-varying amplitudes for one point in space and time\n",
    "\n",
    "xyrange = 2.5\n",
    "xlims = (x0-xyrange, x0+xyrange)\n",
    "ylims = (y0-xyrange, y0+xyrange)\n",
    "\n",
    "\n",
    "\n",
    "# Filtering bands (degrees CCW from East)\n",
    "thetalow = 270\n",
    "thetahigh = 360\n",
    "\n",
    "\n",
    "# thetalow = 60\n",
    "# thetahigh = 120\n",
    "#######\n",
    "\n",
    "A_re_f, A_im_f, A_re, A_im, X, Y = sshdriver.extract_amp_nonstat_dff(ssh_ds, xlims, ylims, dx, timept,\\\n",
    "                    thetalow, thetahigh, A_re=None, A_im=None)"
   ]
  },
  {
   "cell_type": "code",
   "execution_count": null,
   "metadata": {},
   "outputs": [],
   "source": [
    "frq=0\n",
    "z = A_re[frq,0,...] + 1j*A_im[frq,0,...]\n",
    "zf = A_re_f[frq,0,...] + 1j*A_im_f[frq,0,...]"
   ]
  },
  {
   "cell_type": "code",
   "execution_count": null,
   "metadata": {},
   "outputs": [],
   "source": [
    "plt.figure(figsize=(12,6))\n",
    "plt.subplot(121)\n",
    "plt.pcolormesh(X,Y,np.abs(z), cmap='Reds')\n",
    "plt.colorbar()\n",
    "plt.gca().set_aspect('equal')\n",
    "plt.plot(x0,y0,'kd')\n",
    "\n",
    "plt.subplot(122)\n",
    "plt.pcolormesh(X,Y,np.abs(zf), cmap='Reds')\n",
    "plt.colorbar()\n",
    "plt.tight_layout()\n",
    "plt.gca().set_aspect('equal')\n",
    "plt.plot(x0,y0,'kd')\n"
   ]
  },
  {
   "cell_type": "code",
   "execution_count": null,
   "metadata": {},
   "outputs": [],
   "source": [
    "scalefac = sshratio.mean() # ~250:1 ssh:amplitude ratio\n",
    "\n",
    "plt.figure(figsize=(12,6))\n",
    "plt.subplot(121)\n",
    "plt.pcolormesh(X,Y,np.real(z)*scalefac, cmap='RdBu')\n",
    "plt.colorbar()\n",
    "plt.gca().set_aspect('equal')\n",
    "N2_ds.contourf(N2_ds._ds.dv, [100,200,300,400,500,600], colors='k', linewidths=0.2, filled=False)\n",
    "plt.plot(lon,lat,'r--')\n",
    "plt.plot(xpt, ypt, 'm*')\n",
    "plt.plot(x0,y0,'kd')\n",
    "plt.xlim(xlims)\n",
    "plt.ylim(ylims)\n",
    "\n",
    "plt.subplot(122)\n",
    "plt.pcolormesh(X,Y,np.imag(zf)*scalefac, cmap='RdBu')\n",
    "plt.colorbar()\n",
    "plt.tight_layout()\n",
    "plt.gca().set_aspect('equal')\n",
    "N2_ds.contourf(N2_ds._ds.dv, [100,200,300,400,500,600], colors='k', linewidths=0.2, filled=False)\n",
    "plt.plot(lon,lat,'r--')\n",
    "plt.plot(xpt, ypt, 'm*')\n",
    "plt.plot(x0,y0,'kd')\n",
    "plt.xlim(xlims)\n",
    "plt.ylim(ylims)\n"
   ]
  },
  {
   "cell_type": "code",
   "execution_count": null,
   "metadata": {},
   "outputs": [],
   "source": [
    "# Interpolate the DFF result back onto the point of interest\n",
    "nf, nt, ny, nx = A_re.shape\n",
    "\n",
    "A_re_pt = np.zeros((nf,nt))\n",
    "A_im_pt = np.zeros((nf,nt))\n",
    "for ff in range(nf):\n",
    "    for ii in range(nt):\n",
    "        F = RectBivariateSpline( Y[:,0], X[0,:], A_re_f[ff,ii,...])\n",
    "        A_re_pt[ff,ii] = F(y0,x0)\n",
    "        F = RectBivariateSpline( Y[:,0], X[0,:], A_im_f[ff,ii,...])\n",
    "        A_im_pt[ff,ii] = F(y0,x0)"
   ]
  },
  {
   "cell_type": "code",
   "execution_count": null,
   "metadata": {},
   "outputs": [],
   "source": [
    "# Generate a time-series using amplitudes from the first time steps only\n",
    "omegaall = ssh_ds._ds.omega.values\n",
    "na = 3\n",
    "ntide = 5\n",
    "# Location of the main tidal frequencies\n",
    "ii = [(ff+1)*(2*na+1)-na-1 for ff in range(ntide)]\n",
    "omega = omegaall[ii]\n",
    "reftime = np.datetime64(ssh_ds._ds.attrs['ReferenceDate'])\n",
    "\n",
    "\n",
    "dt = 1800\n",
    "nsteps = 15*86400//dt\n",
    "timeout = [timept[0]+np.timedelta64(ii*dt,'s') for ii in range(nsteps)]\n",
    "\n",
    "tsec = (timeout - reftime).astype('timedelta64[s]').astype(float)\n",
    "omega,ii\n",
    "ssh_pt_f = harmonics.harmonic_pred(0, A_re_pt[:,0], A_im_pt[:,0], omega, tsec)"
   ]
  },
  {
   "cell_type": "code",
   "execution_count": null,
   "metadata": {},
   "outputs": [],
   "source": [
    "# # Calculate a time series of ssh at the point\n",
    "ssh_pt = sshdriver.predict_ssh(sshfile, x0, y0, timeout)"
   ]
  },
  {
   "cell_type": "code",
   "execution_count": null,
   "metadata": {},
   "outputs": [],
   "source": [
    "plt.figure(figsize=(12,6))\n",
    "plt.plot(timeout, ssh_pt*scalefac)\n",
    "plt.plot(timeout, ssh_pt_f*scalefac)"
   ]
  },
  {
   "cell_type": "code",
   "execution_count": null,
   "metadata": {},
   "outputs": [],
   "source": []
  }
 ],
 "metadata": {
  "kernelspec": {
   "display_name": "Python 3",
   "language": "python",
   "name": "python3"
  },
  "language_info": {
   "codemirror_mode": {
    "name": "ipython",
    "version": 3
   },
   "file_extension": ".py",
   "mimetype": "text/x-python",
   "name": "python",
   "nbconvert_exporter": "python",
   "pygments_lexer": "ipython3",
   "version": "3.8.5"
  }
 },
 "nbformat": 4,
 "nbformat_minor": 4
}

{
 "cells": [
  {
   "cell_type": "code",
   "execution_count": null,
   "metadata": {},
   "outputs": [],
   "source": [
    "from iwatlas import sshdriver\n",
    "from iwatlas import harmonics\n",
    "from iwatlas import stratification as strat\n",
    "\n",
    "from sfoda.utils.mynumpy import grad_z\n",
    "\n",
    "import xarray as xr\n",
    "import pandas as pd\n",
    "import numpy as np\n",
    "from datetime import datetime\n",
    "\n",
    "from scipy.optimize import least_squares\n",
    "from tqdm import tqdm\n",
    "\n",
    "import matplotlib.pyplot as plt"
   ]
  },
  {
   "cell_type": "code",
   "execution_count": null,
   "metadata": {},
   "outputs": [],
   "source": [
    "basedir = '/home/suntans/cloudstor/Data/IWAtlas'\n",
    "sshfile = '{}/NWS_2km_GLORYS_hex_2013_2014_SSHBC_Harmonics.nc'.format(basedir)\n",
    "ampfile = '{}/NWS_2km_GLORYS_hex_2013_2014_Amplitude_Atlas.nc'.format(basedir)\n",
    "climfile = '{}/NWS_2km_GLORYS_hex_2013_2014_Climatology.nc'.format(basedir)\n",
    "\n",
    "# Output filename\n",
    "N2file = '{}/NWS_2km_GLORYS_hex_2013_2014_Stratification_Atlas_v2.nc'.format(basedir)\n",
    "na = 3 # Number of Annual Harmonics\n",
    "BASETIME = np.datetime64('1990-01-01 00:00:00')\n",
    "\n",
    "clim = sshdriver.load_ssh_clim(climfile)\n",
    "amp = sshdriver.load_ssh_clim(ampfile)\n",
    "\n",
    "clim, amp"
   ]
  },
  {
   "cell_type": "code",
   "execution_count": null,
   "metadata": {},
   "outputs": [],
   "source": [
    "# Vertical grid is not stored in the climatology file so we will calculate it here\n",
    "dz = clim._ds['dz'].values\n",
    "nz = dz.shape[0]\n",
    "dzw = np.zeros((nz+1,))\n",
    "dzw[1::] = dz\n",
    "z_w = np.cumsum(dzw)\n",
    "z_r = 0.5*(z_w[0:-1] + z_w[1::])\n",
    "z_r"
   ]
  },
  {
   "cell_type": "code",
   "execution_count": null,
   "metadata": {},
   "outputs": [],
   "source": [
    "# Load the density data\n",
    "Nk = clim._ds.Nk.values\n",
    "rhoall = clim._ds['rho'].values[:]\n",
    "dv = clim._ds['dv'].values[:]"
   ]
  },
  {
   "cell_type": "code",
   "execution_count": null,
   "metadata": {},
   "outputs": [],
   "source": [
    "def double_gaussian_N2_v2(z, beta):\n",
    "    w1 = beta[6]\n",
    "    w2 = 1-w1\n",
    "    return beta[0,...] + beta[1,...] * (w1*np.exp(- ((z+beta[2,...])/beta[3,...])**2 )  +\\\n",
    "              w2*np.exp(-((z+beta[4,...])/beta[5,...])**2 ) )"
   ]
  },
  {
   "cell_type": "code",
   "execution_count": null,
   "metadata": {},
   "outputs": [],
   "source": [
    "# Initialise the output variables\n",
    "nt, nz, Nc = rhoall.shape\n",
    "nparams = 7\n",
    "\n",
    "N2_params = np.zeros((nt,nparams,Nc))\n",
    "N2_err = np.zeros((nt, Nc))\n",
    "\n",
    "RHO0 = 1024\n",
    "GRAV = 9.81\n",
    "cff1 = -GRAV/RHO0\n",
    "\n",
    "for ii in tqdm(range(Nc)):\n",
    "    initguess = [1e-5,  1e-4, 4, 2, 6.5, 2,0.5]\n",
    "    # Skip shallow water\n",
    "    if dv[ii]<100:\n",
    "        continue\n",
    "        \n",
    "    nk = Nk[ii] \n",
    "    z = z_r[0:nk]\n",
    "    zpr = -np.log(z)\n",
    "    \n",
    "    for tt in range(nt):\n",
    "        bounds = [ (1e-6, 1e-5, 1, 0.1, 1.4, 0.1,0.05), (1e-1, 1e-1, 6, 6, 8, 6,0.95)]\n",
    "        \n",
    "        rho = rhoall[tt,0:nk,ii]\n",
    "        N2 = cff1*grad_z(rho,-z)\n",
    "        \n",
    "        N2fit, f0, err = strat.fit_rho_lsq(N2, zpr, double_gaussian_N2_v2, bounds, initguess)\n",
    "        \n",
    "        # Use the last time-step as\n",
    "        #initguess = f0\n",
    "        \n",
    "        N2_params[tt,:,ii] = f0\n",
    "        N2_err[tt,ii] = err\n",
    "    "
   ]
  },
  {
   "cell_type": "code",
   "execution_count": null,
   "metadata": {},
   "outputs": [],
   "source": [
    "# plt.figure()\n",
    "# plt.plot(zpr, N2,'.')\n",
    "# plt.plot(zpr, N2fit)\n",
    "# N2_params[tt,:,ii]"
   ]
  },
  {
   "cell_type": "code",
   "execution_count": null,
   "metadata": {},
   "outputs": [],
   "source": [
    "# Test a harmonic fit\n",
    "tsec = (clim._ds.time.values - BASETIME).astype(float)*1e-9\n",
    "\n",
    "na = 4\n",
    "aa, Aa, Ba, frq_all = strat.seasonal_harmonic_fit(N2_params, tsec, na)"
   ]
  },
  {
   "cell_type": "code",
   "execution_count": null,
   "metadata": {},
   "outputs": [],
   "source": [
    "texstr = r\"N^2(z) = \\beta_0 + \\beta_1  \\left( \\beta_6* \\exp \\left[- \\left( \\frac{z+\\beta_2}{\\beta_3} \\right)^2 \\right] + (1-\\beta_6)*\\exp \\left[- \\left( \\frac{z+\\beta_4}{\\beta_5} \\right)^2 \\right] \\right)\"\n"
   ]
  },
  {
   "cell_type": "code",
   "execution_count": null,
   "metadata": {},
   "outputs": [],
   "source": [
    "# Create an output dataset like the input amplitude data set\n",
    "new_ds = amp._ds.copy()\n",
    "\n",
    "# Drop a few variables\n",
    "new_ds = new_ds.drop(labels=['amp_b_re','amp_b_im','alpha_n','cn','omega','N2'])\n",
    "new_ds"
   ]
  },
  {
   "cell_type": "code",
   "execution_count": null,
   "metadata": {},
   "outputs": [],
   "source": [
    "# Update some attributes\n",
    "new_ds.attrs['Created'] = str(datetime.now())\n",
    "new_ds.attrs['Title'] = 'SUNTANS density stratification climatology'\n",
    "new_ds.attrs['Author'] = 'Matt Rayson (matt.rayson@uwa.edu.au)'\n",
    "new_ds.attrs.update({'density_func':'double_gaussian_N2_v2'})\n",
    "new_ds.attrs.update({'density_func_tex':texstr})\n",
    "new_ds.attrs.update({'Number_Annual_Harmonics':na})#\n",
    "new_ds.attrs.update({'ReferenceDate':BASETIME.astype(str)})\n",
    "\n",
    "#ReferenceDate\n",
    "new_ds.attrs\n"
   ]
  },
  {
   "cell_type": "code",
   "execution_count": null,
   "metadata": {},
   "outputs": [],
   "source": [
    "# Convert the N2_params array to a DataArray\n",
    "params = range(nparams)\n",
    "omega = frq_all\n",
    "dims = ('time','Nparams','Nc')\n",
    "# coords = {'time':new_ds.time.values, 'Nparams':params, 'xv':range(Nc)}\n",
    "ds_N2 = xr.DataArray(N2_params, dims=dims, attrs={'long_name':'N2 fit parameters'})\n",
    "ds_omega = xr.DataArray(frq_all, dims=('Ntide',) )\n",
    "ds_params = xr.DataArray(params, dims=('Nparams',) )\n",
    "\n",
    "dims = ('Nparams','Nc')\n",
    "ds_N2_mu = xr.DataArray(aa, dims=dims, attrs={'long_name':'N2 fit mean parameters'})\n",
    "dims = ('Ntide','Nparams','Nc')\n",
    "ds_N2_re = xr.DataArray(Aa, dims=dims, attrs={'long_name':'N2 fit real harmonic parameters'})\n",
    "ds_N2_im = xr.DataArray(Ba, dims=dims, attrs={'long_name':'N2 fit imaginary harmonic parameters'})\n",
    "\n",
    "\n",
    "ds2 = xr.Dataset({'N2_t':ds_N2,'omega':ds_omega,'params':ds_params,\n",
    "                 'N2_mu':ds_N2_mu,'N2_re':ds_N2_re,'N2_im':ds_N2_im}).set_coords(['omega','params'])\n",
    "ds2"
   ]
  },
  {
   "cell_type": "code",
   "execution_count": null,
   "metadata": {},
   "outputs": [],
   "source": [
    "compflags = {'zlib':True, 'complevel':5}\n",
    "encoding = {'N2_t':compflags, 'N2_mu':compflags, 'N2_re':compflags,'N2_im':compflags,}"
   ]
  },
  {
   "cell_type": "code",
   "execution_count": null,
   "metadata": {},
   "outputs": [],
   "source": [
    "new_ds.merge(ds2).to_netcdf(N2file, encoding=encoding)"
   ]
  },
  {
   "cell_type": "code",
   "execution_count": null,
   "metadata": {},
   "outputs": [],
   "source": [
    "#ds2.to_netcdf?"
   ]
  },
  {
   "cell_type": "code",
   "execution_count": null,
   "metadata": {},
   "outputs": [],
   "source": [
    "xr.open_dataset(N2file)"
   ]
  },
  {
   "cell_type": "code",
   "execution_count": null,
   "metadata": {},
   "outputs": [],
   "source": []
  }
 ],
 "metadata": {
  "kernelspec": {
   "display_name": "Python 3",
   "language": "python",
   "name": "python3"
  },
  "language_info": {
   "codemirror_mode": {
    "name": "ipython",
    "version": 3
   },
   "file_extension": ".py",
   "mimetype": "text/x-python",
   "name": "python",
   "nbconvert_exporter": "python",
   "pygments_lexer": "ipython3",
   "version": "3.6.6"
  }
 },
 "nbformat": 4,
 "nbformat_minor": 2
}

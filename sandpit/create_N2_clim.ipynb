{
 "cells": [
  {
   "cell_type": "code",
   "execution_count": 2,
   "metadata": {},
   "outputs": [],
   "source": [
    "from iwatlas import sshdriver\n",
    "from iwatlas import harmonics\n",
    "from iwatlas import stratification as strat\n",
    "\n",
    "from sfoda.utils.mynumpy import grad_z\n",
    "\n",
    "import xarray as xr\n",
    "import pandas as pd\n",
    "import numpy as np\n",
    "from datetime import datetime\n",
    "\n",
    "from scipy.optimize import least_squares\n",
    "from tqdm import tqdm\n",
    "\n",
    "import matplotlib.pyplot as plt"
   ]
  },
  {
   "cell_type": "code",
   "execution_count": 3,
   "metadata": {},
   "outputs": [
    {
     "data": {
      "text/plain": [
       "(<xarray.Dataset>\n",
       " Dimensions:  (Nc: 225368, Nk: 80, Np: 454016, numsides: 8, time: 23)\n",
       " Coordinates:\n",
       "     xv       (Nc) float64 ...\n",
       "     yv       (Nc) float64 ...\n",
       "     Nk       (Nc) int32 ...\n",
       "   * time     (time) datetime64[ns] 2013-07-15T23:30:30 ... 2014-06-10T23:30:00\n",
       " Dimensions without coordinates: Nc, Np, numsides\n",
       " Data variables:\n",
       "     cells    (Nc, numsides) int32 3058 3061 3060 2801 ... 316184 316187 -1 -1\n",
       "     xp       (Np) float64 1.394e+07 1.271e+07 1.517e+07 ... 1.303e+07 1.303e+07\n",
       "     yp       (Np) float64 -1.619e+06 -2.553e+06 ... -2.056e+06 -2.055e+06\n",
       "     nfaces   (Nc) int32 ...\n",
       "     dv       (Nc) float64 ...\n",
       "     dz       (Nk) float64 ...\n",
       "     eta      (time, Nc) float64 ...\n",
       "     uc       (time, Nk, Nc) float64 ...\n",
       "     vc       (time, Nk, Nc) float64 ...\n",
       "     rho      (time, Nk, Nc) float64 ...\n",
       " Attributes:\n",
       "     Description:  SUNTANS History file\n",
       "     Author:       \n",
       "     Created:      2020-08-21T12:50:55.346047\n",
       "     Title:        SUNTANS climatology output, <xarray.Dataset>\n",
       " Dimensions:   (Nc: 225368, Nk: 80, Nkw: 81, Nmode: 4, Np: 454016, Ntide: 5, numsides: 8, time: 23)\n",
       " Coordinates:\n",
       "     xv        (Nc) float64 ...\n",
       "     yv        (Nc) float64 ...\n",
       "     Nk        (Nc) int32 ...\n",
       "   * time      (time) datetime64[ns] 2013-07-16 2013-07-31 ... 2014-06-11\n",
       "     z_w       (Nkw) float64 ...\n",
       " Dimensions without coordinates: Nc, Nkw, Nmode, Np, Ntide, numsides\n",
       " Data variables:\n",
       "     cells     (Nc, numsides) int32 3058 3061 3060 2801 ... 316184 316187 -1 -1\n",
       "     xp        (Np) float64 1.394e+07 1.271e+07 1.517e+07 ... 1.303e+07 1.303e+07\n",
       "     yp        (Np) float64 -1.619e+06 -2.553e+06 ... -2.056e+06 -2.055e+06\n",
       "     nfaces    (Nc) int32 ...\n",
       "     dv        (Nc) float64 ...\n",
       "     omega     (Ntide) float64 ...\n",
       "     modes     (Nmode) float64 ...\n",
       "     dz        (Nk) float64 ...\n",
       "     z_r       (Nk) float64 ...\n",
       "     cn        (time, Nmode, Nc) float64 ...\n",
       "     alpha_n   (time, Nmode, Nc) float64 ...\n",
       "     N2        (time, Nkw, Nc) float64 ...\n",
       "     amp_b_re  (time, Ntide, Nmode, Nc) float64 ...\n",
       "     amp_b_im  (time, Ntide, Nmode, Nc) float64 ...\n",
       " Attributes:\n",
       "     Description:  SUNTANS History file\n",
       "     Author:       \n",
       "     Created:      2020-09-29T14:48:41.233813\n",
       "     Title:        SUNTANS climatology output)"
      ]
     },
     "execution_count": 3,
     "metadata": {},
     "output_type": "execute_result"
    }
   ],
   "source": [
    "basedir = '/home/suntans/cloudstor/Data/IWAtlas'\n",
    "sshfile = '{}/NWS_2km_GLORYS_hex_2013_2014_SSHBC_Harmonics.nc'.format(basedir)\n",
    "ampfile = '{}/NWS_2km_GLORYS_hex_2013_2014_Amplitude_Atlas.nc'.format(basedir)\n",
    "climfile = '{}/NWS_2km_GLORYS_hex_2013_2014_Climatology.nc'.format(basedir)\n",
    "\n",
    "# Output filename\n",
    "N2file = '{}/NWS_2km_GLORYS_hex_2013_2014_Stratification_Atlas_v2.nc'.format(basedir)\n",
    "na = 3 # Number of Annual Harmonics\n",
    "BASETIME = np.datetime64('1990-01-01 00:00:00')\n",
    "\n",
    "clim = sshdriver.load_ssh_clim(climfile)\n",
    "amp = sshdriver.load_ssh_clim(ampfile)\n",
    "\n",
    "clim, amp"
   ]
  },
  {
   "cell_type": "code",
   "execution_count": 4,
   "metadata": {},
   "outputs": [
    {
     "data": {
      "text/plain": [
       "array([4.11208050e+00, 1.25212850e+01, 2.13089035e+01, 3.04919650e+01,\n",
       "       4.00882645e+01, 5.01163975e+01, 6.05957965e+01, 7.15467685e+01,\n",
       "       8.29905340e+01, 9.49492690e+01, 1.07446147e+02, 1.20505385e+02,\n",
       "       1.34152289e+02, 1.48413303e+02, 1.63316062e+02, 1.78889446e+02,\n",
       "       1.95163632e+02, 2.12170157e+02, 2.29941975e+02, 2.48513524e+02,\n",
       "       2.67920794e+02, 2.88201391e+02, 3.09394615e+02, 3.31541534e+02,\n",
       "       3.54685063e+02, 3.78870052e+02, 4.04143366e+02, 4.30553978e+02,\n",
       "       4.58153069e+02, 4.86994118e+02, 5.17133014e+02, 5.48628160e+02,\n",
       "       5.81540589e+02, 6.15934076e+02, 6.51875272e+02, 6.89433820e+02,\n",
       "       7.28682503e+02, 7.69697377e+02, 8.12557920e+02, 8.57347187e+02,\n",
       "       9.04151972e+02, 9.53062972e+02, 1.00417497e+03, 1.05758700e+03,\n",
       "       1.11340258e+03, 1.17172985e+03, 1.23268186e+03, 1.29637670e+03,\n",
       "       1.36293782e+03, 1.43249418e+03, 1.50518058e+03, 1.58113787e+03,\n",
       "       1.66051323e+03, 1.74346049e+03, 1.83014037e+03, 1.92072085e+03,\n",
       "       2.01537745e+03, 2.11429359e+03, 2.21766097e+03, 2.32567987e+03,\n",
       "       2.43855962e+03, 2.55651897e+03, 2.67978648e+03, 2.80860104e+03,\n",
       "       2.94321225e+03, 3.08388096e+03, 3.23087976e+03, 3.38449351e+03,\n",
       "       3.54501988e+03, 3.71276994e+03, 3.88806874e+03, 4.07125600e+03,\n",
       "       4.26268668e+03, 4.46273174e+03, 4.67177883e+03, 4.89023304e+03,\n",
       "       5.11851769e+03, 5.35707514e+03, 5.60636769e+03, 5.86687839e+03])"
      ]
     },
     "execution_count": 4,
     "metadata": {},
     "output_type": "execute_result"
    }
   ],
   "source": [
    "# Vertical grid is not stored in the climatology file so we will calculate it here\n",
    "dz = clim._ds['dz'].values\n",
    "nz = dz.shape[0]\n",
    "dzw = np.zeros((nz+1,))\n",
    "dzw[1::] = dz\n",
    "z_w = np.cumsum(dzw)\n",
    "z_r = 0.5*(z_w[0:-1] + z_w[1::])\n",
    "z_r"
   ]
  },
  {
   "cell_type": "code",
   "execution_count": 5,
   "metadata": {},
   "outputs": [],
   "source": [
    "# Load the density data\n",
    "Nk = clim._ds.Nk.values\n",
    "rhoall = clim._ds['rho'].values[:]\n",
    "dv = clim._ds['dv'].values[:]"
   ]
  },
  {
   "cell_type": "code",
   "execution_count": 6,
   "metadata": {},
   "outputs": [],
   "source": [
    "def double_gaussian_N2_v2(z, beta):\n",
    "    w1 = beta[6]\n",
    "    w2 = 1-w1\n",
    "    return beta[0,...] + beta[1,...] * (w1*np.exp(- ((z+beta[2,...])/beta[3,...])**2 )  +\\\n",
    "              w2*np.exp(-((z+beta[4,...])/beta[5,...])**2 ) )"
   ]
  },
  {
   "cell_type": "code",
   "execution_count": null,
   "metadata": {},
   "outputs": [
    {
     "name": "stderr",
     "output_type": "stream",
     "text": [
      "  0%|          | 350/225368 [01:27<15:40:58,  3.99it/s]"
     ]
    }
   ],
   "source": [
    "# Initialise the output variables\n",
    "nt, nz, Nc = rhoall.shape\n",
    "nparams = 7\n",
    "\n",
    "N2_params = np.zeros((nt,nparams,Nc))\n",
    "N2_err = np.zeros((nt, Nc))\n",
    "\n",
    "RHO0 = 1024\n",
    "GRAV = 9.81\n",
    "cff1 = -GRAV/RHO0\n",
    "\n",
    "for ii in tqdm(range(Nc)):\n",
    "    initguess = [1e-5,  1e-4, 4, 2, 6.5, 2,0.5]\n",
    "    # Skip shallow water\n",
    "    if dv[ii]<100:\n",
    "        continue\n",
    "        \n",
    "    nk = Nk[ii] \n",
    "    z = z_r[0:nk]\n",
    "    zpr = -np.log(z)\n",
    "    \n",
    "    for tt in range(nt):\n",
    "        bounds = [ (1e-6, 1e-5, 1, 0.1, 1.4, 0.1,0.05), (1e-1, 1e-1, 6, 6, 8, 6,0.95)]\n",
    "        \n",
    "        rho = rhoall[tt,0:nk,ii]\n",
    "        N2 = cff1*grad_z(rho,-z)\n",
    "        \n",
    "        N2fit, f0, err = strat.fit_rho_lsq(N2, zpr, double_gaussian_N2_v2, bounds, initguess)\n",
    "        \n",
    "        # Use the last time-step as\n",
    "        #initguess = f0\n",
    "        \n",
    "        N2_params[tt,:,ii] = f0\n",
    "        N2_err[tt,ii] = err\n",
    "    "
   ]
  },
  {
   "cell_type": "code",
   "execution_count": null,
   "metadata": {},
   "outputs": [],
   "source": [
    "# plt.figure()\n",
    "# plt.plot(zpr, N2,'.')\n",
    "# plt.plot(zpr, N2fit)\n",
    "# N2_params[tt,:,ii]"
   ]
  },
  {
   "cell_type": "code",
   "execution_count": null,
   "metadata": {},
   "outputs": [],
   "source": [
    "# Test a harmonic fit\n",
    "tsec = (clim._ds.time.values - BASETIME).astype(float)*1e-9\n",
    "\n",
    "na = 4\n",
    "aa, Aa, Ba, frq_all = strat.seasonal_harmonic_fit(N2_params, tsec, na)"
   ]
  },
  {
   "cell_type": "code",
   "execution_count": null,
   "metadata": {},
   "outputs": [],
   "source": [
    "texstr = r\"N^2(z) = \\beta_0 + \\beta_1  \\left( \\beta_6* \\exp \\left[- \\left( \\frac{z+\\beta_2}{\\beta_3} \\right)^2 \\right] + (1-\\beta_6)*\\exp \\left[- \\left( \\frac{z+\\beta_4}{\\beta_5} \\right)^2 \\right] \\right)\"\n"
   ]
  },
  {
   "cell_type": "code",
   "execution_count": null,
   "metadata": {},
   "outputs": [],
   "source": [
    "# Create an output dataset like the input amplitude data set\n",
    "new_ds = amp._ds.copy()\n",
    "\n",
    "# Drop a few variables\n",
    "new_ds = new_ds.drop(labels=['amp_b_re','amp_b_im','alpha_n','cn','omega','N2'])\n",
    "new_ds"
   ]
  },
  {
   "cell_type": "code",
   "execution_count": null,
   "metadata": {},
   "outputs": [],
   "source": [
    "# Update some attributes\n",
    "new_ds.attrs['Created'] = str(datetime.now())\n",
    "new_ds.attrs['Title'] = 'SUNTANS density stratification climatology'\n",
    "new_ds.attrs['Author'] = 'Matt Rayson (matt.rayson@uwa.edu.au)'\n",
    "new_ds.attrs.update({'density_func':'double_gaussian_N2_v2'})\n",
    "new_ds.attrs.update({'density_func_tex':texstr})\n",
    "new_ds.attrs.update({'Number_Annual_Harmonics':na})#\n",
    "new_ds.attrs.update({'ReferenceDate':BASETIME.astype(str)})\n",
    "\n",
    "#ReferenceDate\n",
    "new_ds.attrs\n"
   ]
  },
  {
   "cell_type": "code",
   "execution_count": null,
   "metadata": {},
   "outputs": [],
   "source": [
    "# Convert the N2_params array to a DataArray\n",
    "params = range(nparams)\n",
    "omega = frq_all\n",
    "dims = ('time','Nparams','Nc')\n",
    "# coords = {'time':new_ds.time.values, 'Nparams':params, 'xv':range(Nc)}\n",
    "ds_N2 = xr.DataArray(N2_params, dims=dims, attrs={'long_name':'N2 fit parameters'})\n",
    "ds_omega = xr.DataArray(frq_all, dims=('Ntide',) )\n",
    "ds_params = xr.DataArray(params, dims=('Nparams',) )\n",
    "\n",
    "dims = ('Nparams','Nc')\n",
    "ds_N2_mu = xr.DataArray(aa, dims=dims, attrs={'long_name':'N2 fit mean parameters'})\n",
    "dims = ('Ntide','Nparams','Nc')\n",
    "ds_N2_re = xr.DataArray(Aa, dims=dims, attrs={'long_name':'N2 fit real harmonic parameters'})\n",
    "ds_N2_im = xr.DataArray(Ba, dims=dims, attrs={'long_name':'N2 fit imaginary harmonic parameters'})\n",
    "\n",
    "\n",
    "ds2 = xr.Dataset({'N2_t':ds_N2,'omega':ds_omega,'params':ds_params,\n",
    "                 'N2_mu':ds_N2_mu,'N2_re':ds_N2_re,'N2_im':ds_N2_im}).set_coords(['omega','params'])\n",
    "ds2"
   ]
  },
  {
   "cell_type": "code",
   "execution_count": null,
   "metadata": {},
   "outputs": [],
   "source": [
    "compflags = {'zlib':True, 'complevel':5}\n",
    "encoding = {'N2_t':compflags, 'N2_mu':compflags, 'N2_re':compflags,'N2_im':compflags,}"
   ]
  },
  {
   "cell_type": "code",
   "execution_count": null,
   "metadata": {},
   "outputs": [],
   "source": [
    "new_ds.merge(ds2).to_netcdf(N2file, encoding=encoding)"
   ]
  },
  {
   "cell_type": "code",
   "execution_count": null,
   "metadata": {},
   "outputs": [],
   "source": [
    "#ds2.to_netcdf?"
   ]
  },
  {
   "cell_type": "code",
   "execution_count": null,
   "metadata": {},
   "outputs": [],
   "source": [
    "xr.open_dataset(N2file)"
   ]
  },
  {
   "cell_type": "code",
   "execution_count": null,
   "metadata": {},
   "outputs": [],
   "source": []
  }
 ],
 "metadata": {
  "kernelspec": {
   "display_name": "Python 3",
   "language": "python",
   "name": "python3"
  },
  "language_info": {
   "codemirror_mode": {
    "name": "ipython",
    "version": 3
   },
   "file_extension": ".py",
   "mimetype": "text/x-python",
   "name": "python",
   "nbconvert_exporter": "python",
   "pygments_lexer": "ipython3",
   "version": "3.6.6"
  }
 },
 "nbformat": 4,
 "nbformat_minor": 2
}
